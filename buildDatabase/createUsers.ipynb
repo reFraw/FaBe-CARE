{
 "cells": [
  {
   "cell_type": "markdown",
   "id": "4f1d5231",
   "metadata": {},
   "source": [
    "# Creazione utenti"
   ]
  },
  {
   "cell_type": "code",
   "execution_count": 1,
   "id": "8d7ade49",
   "metadata": {},
   "outputs": [],
   "source": [
    "import os\n",
    "\n",
    "import pandas as pd\n",
    "\n",
    "import sqlalchemy\n",
    "from sqlalchemy import create_engine, text"
   ]
  },
  {
   "cell_type": "code",
   "execution_count": 2,
   "id": "41d6db74",
   "metadata": {},
   "outputs": [],
   "source": [
    "drivername = \"mysqlconnector\"\n",
    "user = \"root\"\n",
    "pw = \"ciao\"\n",
    "server = \"127.0.0.1\"\n",
    "port = \"3306\"\n",
    "\n",
    "db_name = \"fabecare_db\"\n",
    "\n",
    "first_conn = f\"mysql+{drivername}://{user}:{pw}@{server}:{port}/{db_name}\"\n",
    "engine = create_engine(first_conn)"
   ]
  },
  {
   "cell_type": "code",
   "execution_count": 3,
   "id": "e41afd17",
   "metadata": {},
   "outputs": [],
   "source": [
    "filepath = \"data/personale/Personale_Dataset.xlsx\"\n",
    "df = pd.read_excel(filepath, header = 0)"
   ]
  },
  {
   "cell_type": "markdown",
   "id": "454a2e84",
   "metadata": {},
   "source": [
    "Nel blocco di codice seguente vengono estratte le informazioni relative agli utenti che avranno accesso al database.  \n",
    "Per semplicità, tutte le password sono state impostate a \"ciao\"."
   ]
  },
  {
   "cell_type": "code",
   "execution_count": 4,
   "id": "650bcda7",
   "metadata": {},
   "outputs": [],
   "source": [
    "users = []\n",
    "\n",
    "for i in range(len(df['NOME'])):\n",
    "    name = df['NOME'][i][0].lower()\n",
    "    surname = df['COGNOME'][i].lower()\n",
    "    if \" \" in surname:\n",
    "        surname = surname.replace(\" \", \"_\")\n",
    "    user = f\"{name}.{surname}\"\n",
    "    role = df['RUOLO'][i]\n",
    "    users.append((user, role, df['REPARTO'][i]))"
   ]
  },
  {
   "cell_type": "code",
   "execution_count": 5,
   "id": "06d51f37",
   "metadata": {},
   "outputs": [],
   "source": [
    "with engine.connect() as conn:\n",
    "    for user in users:\n",
    "        conn.execute(text(f\"CREATE USER '{user[0]}'@localhost IDENTIFIED BY 'ciao'\"))\n",
    "        \n",
    "        if user[1] == 'Medico' and user[2] == 'Terapia Intensiva':\n",
    "            conn.execute(text(f\"GRANT SELECT, INSERT, UPDATE ON fabecare_db.cure to '{user[0]}'@localhost\"))\n",
    "            conn.execute(text(f\"GRANT SELECT, INSERT, UPDATE ON fabecare_db.parametri_vitali to '{user[0]}'@localhost\"))\n",
    "            conn.execute(text(f\"GRANT SELECT, INSERT, UPDATE ON fabecare_db.pazienti to '{user[0]}'@localhost\"))\n",
    "            conn.execute(text(f\"GRANT SELECT, INSERT, UPDATE ON fabecare_db.ricoveri to '{user[0]}'@localhost\"))\n",
    "            \n",
    "        elif user[1] == 'Medico' and user[2] != 'Terapia Intensiva':\n",
    "            conn.execute(text(f\"GRANT SELECT, INSERT, UPDATE ON fabecare_db.cure to '{user[0]}'@localhost\"))\n",
    "            conn.execute(text(f\"GRANT SELECT, INSERT, UPDATE ON fabecare_db.pazienti to '{user[0]}'@localhost\"))\n",
    "            conn.execute(text(f\"GRANT SELECT, INSERT, UPDATE ON fabecare_db.ricoveri to '{user[0]}'@localhost\"))\n",
    "            \n",
    "        elif user[1] == 'Infermiere':\n",
    "            conn.execute(text(f\"GRANT SELECT (IDP, NOME, COGNOME, DATA_NASCITA) ON fabecare_db.pazienti to '{user[0]}'@localhost\"))\n",
    "            conn.execute(text(f\"GRANT SELECT (ID_PAZIENTE, ID_PERSONALE, PATOLOGIA, PRESCRIZIONI) ON fabecare_db.cure to '{user[0]}'@localhost\"))\n",
    "            conn.execute(text(f\"GRANT SELECT ON fabecare_db.ricoveri to '{user[0]}'@localhost\"))\n",
    "            \n",
    "        elif user[1] == 'OSS':\n",
    "            pass\n",
    "        \n",
    "        elif user[1] == 'Pers. Tecnico':\n",
    "            conn.execute(text(f\"GRANT SELECT, DELETE ON fabecare_db.parametri_vitali to '{user[0]}'@localhost\"))"
   ]
  },
  {
   "cell_type": "code",
   "execution_count": null,
   "id": "ad2ca28f",
   "metadata": {},
   "outputs": [],
   "source": []
  }
 ],
 "metadata": {
  "kernelspec": {
   "display_name": "Python 3 (ipykernel)",
   "language": "python",
   "name": "python3"
  },
  "language_info": {
   "codemirror_mode": {
    "name": "ipython",
    "version": 3
   },
   "file_extension": ".py",
   "mimetype": "text/x-python",
   "name": "python",
   "nbconvert_exporter": "python",
   "pygments_lexer": "ipython3",
   "version": "3.9.9"
  }
 },
 "nbformat": 4,
 "nbformat_minor": 5
}
