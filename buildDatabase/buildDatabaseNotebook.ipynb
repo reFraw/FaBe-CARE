{
 "cells": [
  {
   "cell_type": "code",
   "execution_count": 1,
   "metadata": {
    "ExecuteTime": {
     "end_time": "2023-06-24T16:22:39.488301Z",
     "start_time": "2023-06-24T16:22:38.503346Z"
    }
   },
   "outputs": [],
   "source": [
    "import os\n",
    "\n",
    "import pandas as pd\n",
    "\n",
    "import sqlalchemy\n",
    "from sqlalchemy import create_engine, text"
   ]
  },
  {
   "cell_type": "code",
   "execution_count": 2,
   "metadata": {
    "ExecuteTime": {
     "end_time": "2023-06-24T16:22:39.503923Z",
     "start_time": "2023-06-24T16:22:39.488301Z"
    }
   },
   "outputs": [],
   "source": [
    "def uploadDF(dataframe, eng, table_name):\n",
    "    with eng.connect() as con:\n",
    "        try:\n",
    "            dataframe.to_sql(table_name, con, index=False)\n",
    "        except Exception as e:\n",
    "            con.rollback()\n",
    "            print(f\"[ERROR] Upload failed >>> {e}\")\n",
    "        else:\n",
    "            con.commit()"
   ]
  },
  {
   "cell_type": "markdown",
   "metadata": {},
   "source": [
    "# 1. Path definition"
   ]
  },
  {
   "cell_type": "code",
   "execution_count": 3,
   "metadata": {
    "ExecuteTime": {
     "end_time": "2023-06-24T16:22:44.611831Z",
     "start_time": "2023-06-24T16:22:44.606343Z"
    }
   },
   "outputs": [],
   "source": [
    "ROOT = \"data/\"\n",
    "\n",
    "# Pazienti\n",
    "path_pazienti = os.path.join(ROOT, \"pazienti\", \"Pazienti_Dataset.xlsx\")\n",
    "\n",
    "# Cure\n",
    "path_cure = os.path.join(ROOT, \"cure\", \"Cure_Dataset.xlsx\")\n",
    "\n",
    "# Personale\n",
    "path_personale = os.path.join(ROOT, \"personale\", \"Personale_Dataset.xlsx\")\n",
    "\n",
    "# Reparti\n",
    "path_reparti = os.path.join(ROOT, \"reparti\", \"Reparto_Dataset.xlsx\")\n",
    "\n",
    "# Ricoveri\n",
    "path_ricoveri = os.path.join(ROOT, \"ricoveri\", \"Ricovero_Dateset.xlsx\")\n",
    "\n",
    "# Visualizzazioni\n",
    "path_visualizzazioni = os.path.join(ROOT, \"visualizzazioni\", \"Visualizzazioni_Dataset.xlsx\")\n",
    "\n",
    "# Parametri vitali\n",
    "path_subject00 = os.path.join(ROOT, \"parametriVitali\", \"subject_00.xlsx\")\n",
    "path_subject01 = os.path.join(ROOT, \"parametriVitali\", \"subject_01.xlsx\")\n",
    "path_subject02 = os.path.join(ROOT, \"parametriVitali\", \"subject_02.xlsx\")\n",
    "path_subject03 = os.path.join(ROOT, \"parametriVitali\", \"subject_03.xlsx\")\n",
    "path_subject04 = os.path.join(ROOT, \"parametriVitali\", \"subject_04.xlsx\")\n",
    "path_subject05 = os.path.join(ROOT, \"parametriVitali\", \"subject_05.xlsx\")\n",
    "path_subject06 = os.path.join(ROOT, \"parametriVitali\", \"subject_06.xlsx\")\n",
    "path_subject08 = os.path.join(ROOT, \"parametriVitali\", \"subject_08.xlsx\")\n",
    "path_subject09 = os.path.join(ROOT, \"parametriVitali\", \"subject_09.xlsx\")\n",
    "path_subject10 = os.path.join(ROOT, \"parametriVitali\", \"subject_10.xlsx\")"
   ]
  },
  {
   "cell_type": "markdown",
   "metadata": {},
   "source": [
    "# 2. Loading DataFrame"
   ]
  },
  {
   "cell_type": "code",
   "execution_count": 4,
   "metadata": {
    "ExecuteTime": {
     "end_time": "2023-06-24T16:23:50.644794Z",
     "start_time": "2023-06-24T16:22:46.364538Z"
    }
   },
   "outputs": [],
   "source": [
    "df_pazienti = pd.read_excel(path_pazienti, header=0)\n",
    "df_cure = pd.read_excel(path_cure, header=0)\n",
    "df_personale = pd.read_excel(path_personale, header=0)\n",
    "df_reparti = pd.read_excel(path_reparti, header=0)\n",
    "df_ricoveri = pd.read_excel(path_ricoveri, header=0)\n",
    "df_visualizzazioni = pd.read_excel(path_visualizzazioni, header=0)"
   ]
  },
  {
   "cell_type": "code",
   "execution_count": 5,
   "metadata": {
    "ExecuteTime": {
     "end_time": "2023-06-24T16:25:01.456725Z",
     "start_time": "2023-06-24T16:23:50.660419Z"
    }
   },
   "outputs": [],
   "source": [
    "df_00 = pd.read_excel(path_subject00, header=0)\n",
    "df_01 = pd.read_excel(path_subject01, header=0)\n",
    "df_02 = pd.read_excel(path_subject02, header=0)\n",
    "df_03 = pd.read_excel(path_subject03, header=0)\n",
    "df_04 = pd.read_excel(path_subject04, header=0)\n",
    "df_05 = pd.read_excel(path_subject05, header=0)\n",
    "df_06 = pd.read_excel(path_subject06, header=0)\n",
    "df_08 = pd.read_excel(path_subject08, header=0)\n",
    "df_09 = pd.read_excel(path_subject09, header=0)\n",
    "df_10 = pd.read_excel(path_subject10, header=0)\n",
    "\n",
    "df_parametri = pd.concat([df_00, df_01, df_02, df_03, df_04, df_05, df_06, df_08, df_09, df_10])\n",
    "\n",
    "del df_00, df_01, df_02, df_03, df_04, df_05, df_06, df_08, df_09, df_10"
   ]
  },
  {
   "cell_type": "markdown",
   "metadata": {},
   "source": [
    "# 3. Loading data to DB"
   ]
  },
  {
   "cell_type": "code",
   "execution_count": 6,
   "metadata": {
    "ExecuteTime": {
     "end_time": "2023-06-24T16:26:21.187391Z",
     "start_time": "2023-06-24T16:26:21.161267Z"
    }
   },
   "outputs": [],
   "source": [
    "drivername = \"mysqlconnector\"\n",
    "user = \"root\"\n",
    "pw = \"ciao\"\n",
    "server = \"127.0.0.1\"\n",
    "port = \"3306\"\n",
    "\n",
    "db_name = \"fabecare_db\""
   ]
  },
  {
   "cell_type": "markdown",
   "metadata": {},
   "source": [
    "## 3.1 Create DB"
   ]
  },
  {
   "cell_type": "code",
   "execution_count": 7,
   "metadata": {
    "ExecuteTime": {
     "end_time": "2023-06-24T16:26:44.003489Z",
     "start_time": "2023-06-24T16:26:43.853398Z"
    }
   },
   "outputs": [],
   "source": [
    "first_conn = f\"mysql+{drivername}://{user}:{pw}@{server}:{port}\"\n",
    "engine = create_engine(first_conn)\n",
    "\n",
    "with engine.connect() as conn:\n",
    "    try:\n",
    "        conn.execute(text(f\"CREATE DATABASE {db_name}\"))\n",
    "    except:\n",
    "        conn.rollback()\n",
    "    else:\n",
    "        conn.commit()"
   ]
  },
  {
   "cell_type": "code",
   "execution_count": 8,
   "metadata": {
    "ExecuteTime": {
     "end_time": "2023-06-24T16:26:45.498847Z",
     "start_time": "2023-06-24T16:26:45.467618Z"
    }
   },
   "outputs": [],
   "source": [
    "conn_eng = f\"mysql+{drivername}://{user}:{pw}@{server}:{port}/{db_name}\"\n",
    "engine = create_engine(conn_eng)"
   ]
  },
  {
   "cell_type": "markdown",
   "metadata": {},
   "source": [
    "## 3.2 Loading tables"
   ]
  },
  {
   "cell_type": "code",
   "execution_count": 9,
   "metadata": {
    "ExecuteTime": {
     "end_time": "2023-06-24T16:26:48.547543Z",
     "start_time": "2023-06-24T16:26:48.468977Z"
    }
   },
   "outputs": [],
   "source": [
    "uploadDF(df_reparti, engine, \"reparti\")\n",
    "uploadDF(df_pazienti, engine, \"pazienti\")\n",
    "uploadDF(df_personale, engine, \"personale\")\n",
    "uploadDF(df_ricoveri, engine, \"ricoveri\")\n",
    "uploadDF(df_cure, engine, \"cure\")"
   ]
  },
  {
   "cell_type": "code",
   "execution_count": 10,
   "metadata": {},
   "outputs": [],
   "source": [
    "uploadDF(df_visualizzazioni, engine, \"visualizzazioni\")"
   ]
  },
  {
   "cell_type": "code",
   "execution_count": 11,
   "metadata": {},
   "outputs": [],
   "source": [
    "uploadDF(df_parametri, engine, \"parametri_vitali\")"
   ]
  },
  {
   "cell_type": "markdown",
   "metadata": {},
   "source": [
    "## 3.3 Defining PRIMARY KEYs"
   ]
  },
  {
   "cell_type": "code",
   "execution_count": 12,
   "metadata": {},
   "outputs": [],
   "source": [
    "with engine.connect() as conn:\n",
    "    try:\n",
    "        conn.execute(text(\"ALTER TABLE reparti MODIFY IDR VARCHAR(50)\"))\n",
    "        conn.execute(text(\"ALTER TABLE reparti MODIFY DENOMINAZIONE VARCHAR(500)\"))\n",
    "        conn.execute(text(\"ALTER TABLE reparti ADD PRIMARY KEY (IDR)\"))\n",
    "        \n",
    "        conn.execute(text(\"ALTER TABLE pazienti MODIFY IDP VARCHAR(50)\"))\n",
    "        conn.execute(text(\"ALTER TABLE pazienti ADD PRIMARY KEY (IDP)\"))\n",
    "        \n",
    "        conn.execute(text(\"ALTER TABLE parametri_vitali MODIFY ID VARCHAR(50)\"))\n",
    "        conn.execute(text(\"ALTER TABLE parametri_vitali MODIFY TIPO VARCHAR(50)\"))\n",
    "        conn.execute(text(\"ALTER TABLE parametri_vitali ADD PRIMARY KEY (ID, TIMESTAMP, TIPO)\"))\n",
    "        \n",
    "        conn.execute(text(\"ALTER TABLE personale MODIFY ID_PERS VARCHAR(50)\"))\n",
    "        conn.execute(text(\"ALTER TABLE personale MODIFY REPARTO VARCHAR(500)\"))\n",
    "        conn.execute(text(\"ALTER TABLE personale MODIFY ID_REPARTO VARCHAR(50)\"))\n",
    "        conn.execute(text(\"ALTER TABLE personale ADD PRIMARY KEY (ID_PERS)\"))\n",
    "        \n",
    "        conn.execute(text(\"ALTER TABLE ricoveri MODIFY ID_PAZIENTI VARCHAR(50)\"))\n",
    "        conn.execute(text(\"ALTER TABLE ricoveri MODIFY ID_REPARTO VARCHAR(50)\"))\n",
    "        conn.execute(text(\"ALTER TABLE ricoveri ADD PRIMARY KEY (ID_PAZIENTI)\"))\n",
    "        \n",
    "        conn.execute(text(\"ALTER TABLE cure MODIFY ID_PAZIENTE VARCHAR(50)\"))\n",
    "        conn.execute(text(\"ALTER TABLE cure MODIFY ID_PERSONALE VARCHAR(50)\"))\n",
    "        conn.execute(text(\"ALTER TABLE cure ADD PRIMARY KEY (ID_PAZIENTE, ID_PERSONALE)\"))\n",
    "        \n",
    "        conn.execute(text(\"ALTER TABLE visualizzazioni MODIFY ID_PAZIENTE VARCHAR(50)\"))\n",
    "        conn.execute(text(\"ALTER TABLE visualizzazioni MODIFY ID_PERSONALE VARCHAR(50)\"))\n",
    "        conn.execute(text(\"ALTER TABLE visualizzazioni MODIFY TIPOLOGIA VARCHAR(50)\"))\n",
    "        conn.execute(text(\"ALTER TABLE visualizzazioni ADD PRIMARY KEY (ID_PAZIENTE, ID_PERSONALE, TIPOLOGIA, TEMPO_ACQUISIZIONE)\"))\n",
    "        \n",
    "    except Exception as e:\n",
    "        conn.rollback()\n",
    "        print(f\"[ERROR] {e}\")\n",
    "    else:\n",
    "        conn.commit()"
   ]
  },
  {
   "cell_type": "markdown",
   "metadata": {},
   "source": [
    "## 3.4 Defining references"
   ]
  },
  {
   "cell_type": "code",
   "execution_count": 13,
   "metadata": {},
   "outputs": [],
   "source": [
    "with engine.connect() as conn:\n",
    "    try:\n",
    "        conn.execute(text(\"ALTER TABLE parametri_vitali ADD FOREIGN KEY parametri_vitali(ID) REFERENCES pazienti(IDP)\"))\n",
    "        \n",
    "        conn.execute(text(\"ALTER TABLE personale ADD FOREIGN KEY personale(ID_REPARTO) REFERENCES reparti(IDR)\"))\n",
    "        \n",
    "        conn.execute(text(\"ALTER TABLE ricoveri ADD FOREIGN KEY ricoveri(ID_REPARTO) REFERENCES reparti(IDR)\"))\n",
    "        conn.execute(text(\"ALTER TABLE ricoveri ADD FOREIGN KEY ricoveri(ID_PAZIENTI) REFERENCES pazienti(IDP)\"))\n",
    "        \n",
    "        conn.execute(text(\"ALTER TABLE cure ADD FOREIGN KEY cure(ID_PAZIENTE) REFERENCES pazienti(IDP)\"))\n",
    "        conn.execute(text(\"ALTER TABLE cure ADD FOREIGN KEY cure(ID_PERSONALE) REFERENCES personale(ID_PERS)\"))\n",
    "        \n",
    "        conn.execute(text(\"ALTER TABLE visualizzazioni ADD FOREIGN KEY visualizzazioni(ID_PAZIENTE) REFERENCES pazienti(IDP)\"))\n",
    "        conn.execute(text(\"ALTER TABLE visualizzazioni ADD FOREIGN KEY visualizzazioni(ID_PERSONALE) REFERENCES personale(ID_PERS)\"))\n",
    "    \n",
    "    except Exception as e:\n",
    "        print(f\"[ERROR] {e}\")\n",
    "        conn.rollback()\n",
    "        \n",
    "    else:\n",
    "        conn.commit()"
   ]
  }
 ],
 "metadata": {
  "kernelspec": {
   "display_name": "Python 3 (ipykernel)",
   "language": "python",
   "name": "python3"
  },
  "language_info": {
   "codemirror_mode": {
    "name": "ipython",
    "version": 3
   },
   "file_extension": ".py",
   "mimetype": "text/x-python",
   "name": "python",
   "nbconvert_exporter": "python",
   "pygments_lexer": "ipython3",
   "version": "3.9.9"
  }
 },
 "nbformat": 4,
 "nbformat_minor": 1
}
